{
 "cells": [
  {
   "cell_type": "code",
   "execution_count": 25,
   "metadata": {},
   "outputs": [],
   "source": [
    "# Import dependencies \n",
    "import os\n",
    "import requests\n",
    "from bs4 import BeautifulSoup\n",
    "import pymongo\n",
    "from splinter import Browser\n",
    "import pandas as pd"
   ]
  },
  {
   "cell_type": "markdown",
   "metadata": {},
   "source": [
    "## Mac Users"
   ]
  },
  {
   "cell_type": "code",
   "execution_count": null,
   "metadata": {},
   "outputs": [],
   "source": [
    "# Choose the executable path to driver \n",
    "#executable_path = {'executable_path': 'chromedriver.exe'}\n",
    "#browser = Browser('chrome', **executable_path, headless=False)"
   ]
  },
  {
   "cell_type": "markdown",
   "metadata": {},
   "source": [
    "## Windows users"
   ]
  },
  {
   "cell_type": "code",
   "execution_count": 28,
   "metadata": {},
   "outputs": [],
   "source": [
    "# Choose the executable path to driver \n",
    "executable_path = {'executable_path': 'chromedriver.exe'}\n",
    "browser = Browser('chrome', **executable_path, headless=False)"
   ]
  },
  {
   "cell_type": "markdown",
   "metadata": {},
   "source": [
    "## Scraping NASA Mars News"
   ]
  },
  {
   "cell_type": "code",
   "execution_count": 29,
   "metadata": {},
   "outputs": [
    {
     "name": "stdout",
     "output_type": "stream",
     "text": [
      "Mars 2020 Rover: T-Minus One Year and Counting \n",
      "The launch period for NASA's next rover, Mars 2020, opens exactly one year from today, July 17, 2020, and extends through Aug. 5, 2020.\n"
     ]
    }
   ],
   "source": [
    "news_url=\"https://mars.nasa.gov/news/\"\n",
    "\n",
    "browser.visit(news_url)\n",
    "\n",
    "# Create BeautifulSoup object; parse with 'html.parser'\n",
    "html=browser.html\n",
    "soup=BeautifulSoup(html, 'html.parser')\n",
    "\n",
    "news_title=soup.find('div', class_='content_title').find('a').text\n",
    "news_p=soup.find('div', class_='article_teaser_body').text\n",
    "\n",
    "print(news_title)\n",
    "print(news_p)"
   ]
  },
  {
   "cell_type": "markdown",
   "metadata": {},
   "source": [
    "## Scraping Featured Image"
   ]
  },
  {
   "cell_type": "code",
   "execution_count": null,
   "metadata": {},
   "outputs": [],
   "source": [
    "image_url=\"https://www.jpl.nasa.gov/spaceimages/?search=&category=Mars\"\n",
    "\n",
    "browser.visit(image_url)\n",
    "\n",
    "# Create BeautifulSoup object; parse with 'html.parser'\n",
    "html_image=browser.html\n",
    "soup=BeautifulSoup(html_image, 'html.parser')"
   ]
  },
  {
   "cell_type": "code",
   "execution_count": null,
   "metadata": {},
   "outputs": [],
   "source": [
    "main_url='https://www.jpl.nasa.gov/'\n",
    "\n",
    "response=soup.find('article')['style']\n",
    "response=response.replace('background-image: url(',\"\").replace(');','')\n",
    "response=response[2:-1]\n",
    "\n",
    "featured_image=main_url+response\n",
    "featured_image"
   ]
  },
  {
   "cell_type": "markdown",
   "metadata": {},
   "source": [
    "## Scraing Mars Weather"
   ]
  },
  {
   "cell_type": "code",
   "execution_count": 30,
   "metadata": {},
   "outputs": [],
   "source": [
    "weather_url=\"https://twitter.com/marswxreport?lang=en\"\n",
    "\n",
    "browser.visit(weather_url)\n",
    "\n",
    "# Create BeautifulSoup object; parse with 'html.parser'\n",
    "weather=browser.html\n",
    "soup=BeautifulSoup(weather, 'html.parser')"
   ]
  },
  {
   "cell_type": "code",
   "execution_count": 35,
   "metadata": {},
   "outputs": [
    {
     "data": {
      "text/plain": [
       "'InSight sol 229 (2019-07-19) low -99.2ºC (-146.6ºF) high -24.7ºC (-12.4ºF)\\nwinds from the SW at 4.0 m/s (9.0 mph) gusting to 14.8 m/s (33.0 mph)\\npressure at 7.60 hPapic.twitter.com/WEjGzvCEhb'"
      ]
     },
     "execution_count": 35,
     "metadata": {},
     "output_type": "execute_result"
    }
   ],
   "source": [
    "mars_weather=soup.find('p', class_='js-tweet-text').text\n",
    "mars_weather\n"
   ]
  },
  {
   "cell_type": "code",
   "execution_count": 37,
   "metadata": {},
   "outputs": [
    {
     "data": {
      "text/plain": [
       "'InSight sol 229 (2019-07-19) low -99.2ºC (-146.6ºF) high -24.7ºC (-12.4ºF)\\nwinds from the SW at 4.0 m/s (9.0 mph) gusting to 14.8 m/s (33.0 mph)\\npressure at 7.60 hPapic.twitter.com/WEjGzvCEhb'"
      ]
     },
     "execution_count": 37,
     "metadata": {},
     "output_type": "execute_result"
    }
   ],
   "source": []
  },
  {
   "cell_type": "markdown",
   "metadata": {},
   "source": [
    "## Scraping Mars Facts"
   ]
  },
  {
   "cell_type": "code",
   "execution_count": 11,
   "metadata": {},
   "outputs": [],
   "source": [
    "facts_url=\"https://space-facts.com/mars/\"\n",
    "\n",
    "tables = pd.read_html(facts_url)\n",
    "facts=tables[0]\n",
    "facts.drop('Earth', axis=1, inplace=True)\n",
    "facts.columns=['Description',\"Value\"]\n",
    "facts.set_index('Description', inplace=True)"
   ]
  },
  {
   "cell_type": "code",
   "execution_count": null,
   "metadata": {},
   "outputs": [],
   "source": [
    "#save table to html\n",
    "facts_html=facts.to_html('facts_table.html')"
   ]
  },
  {
   "cell_type": "markdown",
   "metadata": {},
   "source": [
    "## Scraping Hemisphere images"
   ]
  },
  {
   "cell_type": "code",
   "execution_count": null,
   "metadata": {},
   "outputs": [],
   "source": [
    "hemisphere_url=\"https://astrogeology.usgs.gov/search/results?q=hemisphere+enhanced&k1=target&v1=Mars\"\n",
    "\n",
    "browser.visit(hemisphere_url)\n",
    "\n",
    "# Create BeautifulSoup object; parse with 'html.parser'\n",
    "hemisphere=browser.html\n",
    "soup=BeautifulSoup(hemisphere, 'html.parser')"
   ]
  },
  {
   "cell_type": "code",
   "execution_count": null,
   "metadata": {},
   "outputs": [],
   "source": [
    "results=soup.find_all('div', class_=\"item\")\n",
    "\n",
    "Hemisphere_image_urls=[]\n",
    "\n",
    "main='https://astrogeology.usgs.gov'\n",
    "\n",
    "for result in results:\n",
    "    title=result.find('h3').text\n",
    "    partial_url=result.find('div', class_='description').find('a')['href']\n",
    "    \n",
    "    imagePage_url=main+partial_url\n",
    "    browser.visit(imagePage_url)\n",
    "    image_loc=browser.html\n",
    "    \n",
    "    image_info=BeautifulSoup(image_loc, 'html.parser')\n",
    "    \n",
    "    img_url=image_info.find('img', class_='wide-image')['src']\n",
    "    img_url=main+img_url\n",
    "    \n",
    "    image={\n",
    "        'title': title,\n",
    "        'img_url': img_url\n",
    "    }\n",
    "    \n",
    "    Hemisphere_image_urls.append(image)\n",
    "    print(title)\n",
    "    print(img_url)\n",
    "    "
   ]
  },
  {
   "cell_type": "code",
   "execution_count": null,
   "metadata": {},
   "outputs": [],
   "source": [
    "Hemisphere_image_urls"
   ]
  },
  {
   "cell_type": "code",
   "execution_count": null,
   "metadata": {},
   "outputs": [],
   "source": []
  }
 ],
 "metadata": {
  "kernelspec": {
   "display_name": "Python 3",
   "language": "python",
   "name": "python3"
  },
  "language_info": {
   "codemirror_mode": {
    "name": "ipython",
    "version": 3
   },
   "file_extension": ".py",
   "mimetype": "text/x-python",
   "name": "python",
   "nbconvert_exporter": "python",
   "pygments_lexer": "ipython3",
   "version": "3.7.1"
  }
 },
 "nbformat": 4,
 "nbformat_minor": 2
}
